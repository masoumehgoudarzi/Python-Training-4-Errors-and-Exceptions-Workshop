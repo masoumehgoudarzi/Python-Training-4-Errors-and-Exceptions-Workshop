{
  "cells": [
    {
      "cell_type": "markdown",
      "source": [
        "#**Python Workshop (4) - Errors and Exceptions**\n",
        "#**Prepared by:**\n",
        "#Arian Yavari\n",
        "#Masoumeh Goudarzi\n",
        "#Hamid Shirdastian, PhD\n",
        "All authorized workshop material cannot be redistributed without the prior consent of the instructors."
      ],
      "metadata": {
        "id": "PVGFiply18S1"
      }
    },
    {
      "cell_type": "markdown",
      "metadata": {
        "id": "U2uSxzKC1tD0"
      },
      "source": [
        "# Syntax Errors and Exceptions"
      ]
    },
    {
      "cell_type": "markdown",
      "metadata": {
        "id": "G5UEi9GA1tD3"
      },
      "source": [
        "There are (at least) two distinguishable kinds of errors: syntax errors and exceptions."
      ]
    },
    {
      "cell_type": "markdown",
      "metadata": {
        "id": "zWE2eV191tD4"
      },
      "source": [
        "Syntax errors, also known as parsing errors, are perhaps the most common kind"
      ]
    },
    {
      "cell_type": "code",
      "execution_count": null,
      "metadata": {
        "id": "aIi6Ei051tD4",
        "outputId": "126f1e01-0633-434f-de06-21f4b18a417b"
      },
      "outputs": [
        {
          "ename": "SyntaxError",
          "evalue": "invalid syntax (Temp/ipykernel_30360/2884618176.py, line 1)",
          "output_type": "error",
          "traceback": [
            "\u001b[1;36m  File \u001b[1;32m\"C:\\Users\\aryan\\AppData\\Local\\Temp/ipykernel_30360/2884618176.py\"\u001b[1;36m, line \u001b[1;32m1\u001b[0m\n\u001b[1;33m    while True print('Hello world')\u001b[0m\n\u001b[1;37m               ^\u001b[0m\n\u001b[1;31mSyntaxError\u001b[0m\u001b[1;31m:\u001b[0m invalid syntax\n"
          ]
        }
      ],
      "source": [
        "while True print('Hello world')"
      ]
    },
    {
      "cell_type": "markdown",
      "metadata": {
        "id": "8iZ-Agfv1tD6"
      },
      "source": [
        "Even if a statement or expression is syntactically correct, it may cause an error when an attempt is made to execute it. Errors detected during execution are called exceptions and are not unconditionally fatal"
      ]
    },
    {
      "cell_type": "code",
      "execution_count": null,
      "metadata": {
        "id": "mWIm_isg1tD6",
        "outputId": "96977295-09d3-41bd-c2cb-14251d5cc609"
      },
      "outputs": [
        {
          "ename": "TypeError",
          "evalue": "can only concatenate str (not \"int\") to str",
          "output_type": "error",
          "traceback": [
            "\u001b[1;31m---------------------------------------------------------------------------\u001b[0m",
            "\u001b[1;31mTypeError\u001b[0m                                 Traceback (most recent call last)",
            "\u001b[1;32m~\\AppData\\Local\\Temp/ipykernel_30360/3226487580.py\u001b[0m in \u001b[0;36m<module>\u001b[1;34m\u001b[0m\n\u001b[0;32m      3\u001b[0m \u001b[1;31m# 4 + spam*3 # name error\u001b[0m\u001b[1;33m\u001b[0m\u001b[1;33m\u001b[0m\u001b[0m\n\u001b[0;32m      4\u001b[0m \u001b[1;33m\u001b[0m\u001b[0m\n\u001b[1;32m----> 5\u001b[1;33m \u001b[1;34m'2'\u001b[0m \u001b[1;33m+\u001b[0m \u001b[1;36m2\u001b[0m \u001b[1;31m#\u001b[0m\u001b[1;33m\u001b[0m\u001b[1;33m\u001b[0m\u001b[0m\n\u001b[0m",
            "\u001b[1;31mTypeError\u001b[0m: can only concatenate str (not \"int\") to str"
          ]
        }
      ],
      "source": [
        "10 * (1/0) # zero division error\n",
        "\n",
        "# 4 + spam*3 # name error\n",
        "\n",
        "# '2' + 2 # type error"
      ]
    },
    {
      "cell_type": "markdown",
      "metadata": {
        "id": "2NBwnbv_1tD7"
      },
      "source": [
        "Handling Exceptions\n"
      ]
    },
    {
      "cell_type": "markdown",
      "metadata": {
        "id": "V-Zpc1XS1tD7"
      },
      "source": [
        "won't work with jupyter notebooks becasue of the nature of implementation"
      ]
    },
    {
      "cell_type": "code",
      "execution_count": null,
      "metadata": {
        "id": "4mh_RjLZ1tD8",
        "outputId": "f8cb31fb-2d4e-4e4d-fff3-03aadefda088"
      },
      "outputs": [
        {
          "name": "stdout",
          "output_type": "stream",
          "text": [
            "Oops!  That was no valid number.  Try again...\n",
            "The matched or unmatched exception's were skipped.\n",
            "Oops!  That was no valid number.  Try again...\n",
            "The matched or unmatched exception's were skipped.\n",
            "Oops!  That was no valid number.  Try again...\n",
            "The matched or unmatched exception's were skipped.\n"
          ]
        }
      ],
      "source": [
        "while True:\n",
        "    try:\n",
        "        x = int(input(\"Please enter a number: \"))\n",
        "        break\n",
        "    except ValueError:\n",
        "        print(\"Oops!  That was no valid number.  Try again...\")\n",
        "    except KeyboardInterrupt:\n",
        "        print(\"You stopped the program using keyboard interruption\")\n",
        "    except (RuntimeError, TypeError, NameError):\n",
        "        pass\n",
        "    print(\"The matched or unmatched exception's were skipped.\")"
      ]
    },
    {
      "cell_type": "markdown",
      "metadata": {
        "id": "GBZP0YqQ1tD9"
      },
      "source": [
        "# Try Exception blocks for handling Errors\n",
        "\n",
        "First, the try clause (the statement(s) between the try and except keywords) is executed.\n",
        "\n",
        "If no exception occurs, the except clause is skipped and execution of the try statement is finished.\n",
        "\n",
        "If an exception occurs during execution of the try clause, the rest of the clause is skipped. Then, if its type matches the exception named after the except keyword, the except clause is executed, and then execution continues after the try/except block.\n",
        "\n",
        "If an exception occurs which does not match the exception named in the except clause, it is passed on to outer try statements; if no handler is found, it is an unhandled exception and execution stops with a message as shown above."
      ]
    },
    {
      "cell_type": "markdown",
      "metadata": {
        "id": "aFnwxuL61tD9"
      },
      "source": [
        "The try … except statement has an optional else clause, which, when present, must follow all except clauses. It is useful for code that must be executed if the try clause does not raise an exception"
      ]
    },
    {
      "cell_type": "code",
      "execution_count": null,
      "metadata": {
        "id": "uEkFKZvg1tD-",
        "outputId": "f73c42ac-8429-44c7-c4a8-7023593022e2",
        "colab": {
          "base_uri": "https://localhost:8080/"
        }
      },
      "outputs": [
        {
          "output_type": "stream",
          "name": "stdout",
          "text": [
            "Else clause has been executed.\n"
          ]
        }
      ],
      "source": [
        "import sys\n",
        "\n",
        "for i in range(1):\n",
        "    try:\n",
        "        2 + 2\n",
        "    except OSError:\n",
        "        pass\n",
        "    else:\n",
        "        print(f\"Else clause has been executed.\")\n"
      ]
    },
    {
      "cell_type": "code",
      "execution_count": null,
      "metadata": {
        "id": "oJ3V1PLK1tD-",
        "colab": {
          "base_uri": "https://localhost:8080/"
        },
        "outputId": "3f9e48f1-729d-4375-ef37-1e91db5bf66c"
      },
      "outputs": [
        {
          "output_type": "stream",
          "name": "stdout",
          "text": [
            "Handling run-time error: division by zero\n"
          ]
        }
      ],
      "source": [
        "def this_fails():\n",
        "    x = 1/0\n",
        "\n",
        "try:\n",
        "    this_fails()\n",
        "except ZeroDivisionError as err:\n",
        "    print('Handling run-time error:', err)"
      ]
    },
    {
      "cell_type": "markdown",
      "metadata": {
        "id": "vMr3zYOY1tD_"
      },
      "source": [
        "The raise statement allows the programmer to force a specified exception to occur."
      ]
    },
    {
      "cell_type": "code",
      "execution_count": null,
      "metadata": {
        "id": "Gi4uSyyn1tD_"
      },
      "outputs": [],
      "source": [
        "raise NameError('HiThere')"
      ]
    },
    {
      "cell_type": "markdown",
      "metadata": {
        "id": "tvJnk7Xp1tD_"
      },
      "source": [
        "Clean-up Actions Following incidence of exceptions"
      ]
    },
    {
      "cell_type": "code",
      "execution_count": null,
      "metadata": {
        "id": "3ULk97IX1tEA",
        "outputId": "c004d89e-8686-4f58-96be-e7d430d819ea"
      },
      "outputs": [
        {
          "name": "stdout",
          "output_type": "stream",
          "text": [
            "Goodbye!\n"
          ]
        },
        {
          "ename": "KeyboardInterrupt",
          "evalue": "",
          "output_type": "error",
          "traceback": [
            "\u001b[1;31m---------------------------------------------------------------------------\u001b[0m",
            "\u001b[1;31mKeyboardInterrupt\u001b[0m                         Traceback (most recent call last)",
            "\u001b[1;32m~\\AppData\\Local\\Temp/ipykernel_11388/3460674715.py\u001b[0m in \u001b[0;36m<module>\u001b[1;34m\u001b[0m\n\u001b[0;32m      1\u001b[0m \u001b[1;32mtry\u001b[0m\u001b[1;33m:\u001b[0m\u001b[1;33m\u001b[0m\u001b[1;33m\u001b[0m\u001b[0m\n\u001b[1;32m----> 2\u001b[1;33m     \u001b[1;32mraise\u001b[0m \u001b[0mKeyboardInterrupt\u001b[0m\u001b[1;33m\u001b[0m\u001b[1;33m\u001b[0m\u001b[0m\n\u001b[0m\u001b[0;32m      3\u001b[0m \u001b[1;32mfinally\u001b[0m\u001b[1;33m:\u001b[0m\u001b[1;33m\u001b[0m\u001b[1;33m\u001b[0m\u001b[0m\n\u001b[0;32m      4\u001b[0m     \u001b[0mprint\u001b[0m\u001b[1;33m(\u001b[0m\u001b[1;34m'Goodbye!'\u001b[0m\u001b[1;33m)\u001b[0m\u001b[1;33m\u001b[0m\u001b[1;33m\u001b[0m\u001b[0m\n",
            "\u001b[1;31mKeyboardInterrupt\u001b[0m: "
          ]
        }
      ],
      "source": [
        "try:\n",
        "    raise KeyboardInterrupt\n",
        "finally:g\n",
        "    print('Goodbye!')"
      ]
    },
    {
      "cell_type": "markdown",
      "metadata": {
        "id": "IMGI3Cbu1tEA"
      },
      "source": [
        "If a finally clause is present, the finally clause will execute as the last task before the try statement completes. The finally clause runs whether or not the try statement produces an exception."
      ]
    },
    {
      "cell_type": "markdown",
      "metadata": {
        "id": "BEM9AjY81tEA"
      },
      "source": [
        "Extra Info to be learned: Exception chaining, transforming exceptions, user-defined exceptions, predefined clean-up actions, raising andn handling multiple unrelated exceptions, encriching exceptions with notes."
      ]
    }
  ],
  "metadata": {
    "kernelspec": {
      "display_name": "Python 3",
      "language": "python",
      "name": "python3"
    },
    "language_info": {
      "codemirror_mode": {
        "name": "ipython",
        "version": 3
      },
      "file_extension": ".py",
      "mimetype": "text/x-python",
      "name": "python",
      "nbconvert_exporter": "python",
      "pygments_lexer": "ipython3",
      "version": "3.10.4"
    },
    "orig_nbformat": 4,
    "colab": {
      "provenance": []
    }
  },
  "nbformat": 4,
  "nbformat_minor": 0
}